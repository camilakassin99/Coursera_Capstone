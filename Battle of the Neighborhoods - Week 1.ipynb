{
    "cells": [
        {
            "cell_type": "markdown",
            "metadata": {
                "collapsed": true
            },
            "source": "# Part 1 - Introduction/Business Problem"
        },
        {
            "cell_type": "markdown",
            "metadata": {},
            "source": "### Clearly define a problem or an idea of your choice, where you would need to leverage the Foursquare location data to solve or execute. Remember that data science problems always target an audience and are meant to help a group of stakeholders solve a problem, so make sure that you explicitly describe your audience and why they would care about your problem."
        },
        {
            "cell_type": "markdown",
            "metadata": {},
            "source": "The following project is aimed to find out where in the city of San Francisco would it be best to open or build a new bar for it to achieve its maximum success. We will look at what area is safest and most popular for the bar to thrive. "
        },
        {
            "cell_type": "markdown",
            "metadata": {},
            "source": "# Part 2 - Data Section"
        },
        {
            "cell_type": "markdown",
            "metadata": {},
            "source": "### Describe the data that you will be using to solve the problem or execute your idea. Remember that you will need to use the Foursquare location data to solve the problem or execute your idea. You can absolutely use other datasets in combination with the Foursquare location data. So make sure that you provide adequate explanation and discussion, with examples, of the data that you will be using, even if it is only Foursquare location data."
        },
        {
            "cell_type": "markdown",
            "metadata": {},
            "source": "Public datasets from San Francisco will be used alongside Foursquare API. We will be using San Francisco Registered Business Data to help locate the number and type of business in each area, San Francisco Crime Data to observe which neighborhood is safest to establish a new bar, and Foursquare API Data for access to venue data. \n"
        },
        {
            "cell_type": "code",
            "execution_count": 11,
            "metadata": {},
            "outputs": [
                {
                    "name": "stdout",
                    "output_type": "stream",
                    "text": "We are going to start by importing all the libraries necessary:\n"
                }
            ],
            "source": "print(\"We are going to start by importing all the libraries necessary:\")"
        },
        {
            "cell_type": "code",
            "execution_count": 12,
            "metadata": {},
            "outputs": [
                {
                    "name": "stdout",
                    "output_type": "stream",
                    "text": "Solving environment: done\n\n# All requested packages already installed.\n\nSolving environment: done\n\n# All requested packages already installed.\n\nLibraries imported.\n"
                }
            ],
            "source": "import numpy as np # library to handle data in a vectorized manner\nimport requests # library to handle requests\nimport pandas as pd # library for data analsysis\npd.set_option('display.max_columns', None)\npd.set_option('display.max_rows', None)\n\nimport json # library to handle JSON files\n\n!conda install -c conda-forge geopy --yes # uncomment this line if you haven't completed the Foursquare API lab\nfrom geopy.geocoders import Nominatim # convert an address into latitude and longitude values\n\n# libraries for displaying images\nfrom IPython.display import Image \nfrom IPython.core.display import HTML \n\nimport requests # library to handle requests\nfrom pandas.io.json import json_normalize # tranform JSON file into a pandas dataframe\n\n# Matplotlib and associated plotting modules\nimport matplotlib.cm as cm\nimport matplotlib.colors as colors\n\n# import k-means from clustering stage\nfrom sklearn.cluster import KMeans\n\n!conda install -c conda-forge folium=0.5.0 --yes # uncomment this line if you haven't completed the Foursquare API lab\nimport folium # map rendering library\n\n\nprint('Libraries imported.')"
        },
        {
            "cell_type": "code",
            "execution_count": 13,
            "metadata": {},
            "outputs": [
                {
                    "name": "stdout",
                    "output_type": "stream",
                    "text": "Registered Business Data:\n(260309, 36)\n"
                },
                {
                    "data": {
                        "text/html": "<div>\n<style scoped>\n    .dataframe tbody tr th:only-of-type {\n        vertical-align: middle;\n    }\n\n    .dataframe tbody tr th {\n        vertical-align: top;\n    }\n\n    .dataframe thead th {\n        text-align: right;\n    }\n</style>\n<table border=\"1\" class=\"dataframe\">\n  <thead>\n    <tr style=\"text-align: right;\">\n      <th></th>\n      <th>Location Id</th>\n      <th>Business Account Number</th>\n      <th>Ownership Name</th>\n      <th>DBA Name</th>\n      <th>Street Address</th>\n      <th>City</th>\n      <th>State</th>\n      <th>Source Zipcode</th>\n      <th>Business Start Date</th>\n      <th>Business End Date</th>\n      <th>Location Start Date</th>\n      <th>Location End Date</th>\n      <th>Mail Address</th>\n      <th>Mail City</th>\n      <th>Mail Zipcode</th>\n      <th>Mail State</th>\n      <th>NAICS Code</th>\n      <th>NAICS Code Description</th>\n      <th>Parking Tax</th>\n      <th>Transient Occupancy Tax</th>\n      <th>LIC Code</th>\n      <th>LIC Code Description</th>\n      <th>Supervisor District</th>\n      <th>Neighborhoods - Analysis Boundaries</th>\n      <th>Business Corridor</th>\n      <th>Business Location</th>\n      <th>SF Find Neighborhoods</th>\n      <th>Current Police Districts</th>\n      <th>Current Supervisor Districts</th>\n      <th>Analysis Neighborhoods</th>\n      <th>DELETE - Zip Codes</th>\n      <th>DELETE - Fire Prevention Districts</th>\n      <th>DELETE - Supervisor Districts</th>\n      <th>DELETE - Current Police Districts</th>\n      <th>DELETE - Neighborhoods</th>\n      <th>DELETE - Police Districts</th>\n    </tr>\n  </thead>\n  <tbody>\n    <tr>\n      <th>0</th>\n      <td>1103593-08-161</td>\n      <td>1049564</td>\n      <td>Anjan Rajbhandari</td>\n      <td>Uber</td>\n      <td>28134 Harvey Ave</td>\n      <td>Hayward</td>\n      <td>CA</td>\n      <td>94544.0</td>\n      <td>03/24/2014</td>\n      <td>12/31/2017</td>\n      <td>03/24/2014</td>\n      <td>12/31/2017</td>\n      <td>NaN</td>\n      <td>NaN</td>\n      <td>NaN</td>\n      <td>NaN</td>\n      <td>NaN</td>\n      <td>NaN</td>\n      <td>False</td>\n      <td>False</td>\n      <td>NaN</td>\n      <td>NaN</td>\n      <td>NaN</td>\n      <td>NaN</td>\n      <td>NaN</td>\n      <td>NaN</td>\n      <td>NaN</td>\n      <td>NaN</td>\n      <td>NaN</td>\n      <td>NaN</td>\n      <td>NaN</td>\n      <td>NaN</td>\n      <td>NaN</td>\n      <td>NaN</td>\n      <td>NaN</td>\n      <td>NaN</td>\n    </tr>\n    <tr>\n      <th>1</th>\n      <td>1218784-04-191</td>\n      <td>1100756</td>\n      <td>Luisa Alberto</td>\n      <td>High Five Sf</td>\n      <td>467 14th St</td>\n      <td>San Francisco</td>\n      <td>CA</td>\n      <td>94103.0</td>\n      <td>04/15/2019</td>\n      <td>04/15/2019</td>\n      <td>04/15/2019</td>\n      <td>04/15/2019</td>\n      <td>NaN</td>\n      <td>NaN</td>\n      <td>NaN</td>\n      <td>NaN</td>\n      <td>NaN</td>\n      <td>NaN</td>\n      <td>False</td>\n      <td>False</td>\n      <td>NaN</td>\n      <td>NaN</td>\n      <td>8.0</td>\n      <td>Mission</td>\n      <td>NaN</td>\n      <td>NaN</td>\n      <td>NaN</td>\n      <td>NaN</td>\n      <td>NaN</td>\n      <td>NaN</td>\n      <td>NaN</td>\n      <td>NaN</td>\n      <td>NaN</td>\n      <td>NaN</td>\n      <td>NaN</td>\n      <td>NaN</td>\n    </tr>\n    <tr>\n      <th>2</th>\n      <td>1223199-05-191</td>\n      <td>1102424</td>\n      <td>Sunrun, Inc.</td>\n      <td>Sunrun, Inc</td>\n      <td>595 Market St</td>\n      <td>San Francisco</td>\n      <td>CA</td>\n      <td>94105.0</td>\n      <td>06/01/2008</td>\n      <td>06/01/2008</td>\n      <td>06/01/2008</td>\n      <td>06/01/2008</td>\n      <td>NaN</td>\n      <td>NaN</td>\n      <td>NaN</td>\n      <td>NaN</td>\n      <td>2200-2299</td>\n      <td>Utilities</td>\n      <td>False</td>\n      <td>False</td>\n      <td>NaN</td>\n      <td>NaN</td>\n      <td>NaN</td>\n      <td>NaN</td>\n      <td>NaN</td>\n      <td>NaN</td>\n      <td>NaN</td>\n      <td>NaN</td>\n      <td>NaN</td>\n      <td>NaN</td>\n      <td>NaN</td>\n      <td>NaN</td>\n      <td>NaN</td>\n      <td>NaN</td>\n      <td>NaN</td>\n      <td>NaN</td>\n    </tr>\n    <tr>\n      <th>3</th>\n      <td>1220748-05-191</td>\n      <td>1101579</td>\n      <td>Felix Hernandez</td>\n      <td>Tru-Tec Electric</td>\n      <td>44 Mcaker Ct</td>\n      <td>San Mateo</td>\n      <td>CA</td>\n      <td>94403.0</td>\n      <td>05/06/2019</td>\n      <td>06/18/2019</td>\n      <td>05/06/2019</td>\n      <td>06/18/2019</td>\n      <td>NaN</td>\n      <td>NaN</td>\n      <td>NaN</td>\n      <td>NaN</td>\n      <td>NaN</td>\n      <td>NaN</td>\n      <td>False</td>\n      <td>False</td>\n      <td>NaN</td>\n      <td>NaN</td>\n      <td>NaN</td>\n      <td>NaN</td>\n      <td>NaN</td>\n      <td>NaN</td>\n      <td>NaN</td>\n      <td>NaN</td>\n      <td>NaN</td>\n      <td>NaN</td>\n      <td>NaN</td>\n      <td>NaN</td>\n      <td>NaN</td>\n      <td>NaN</td>\n      <td>NaN</td>\n      <td>NaN</td>\n    </tr>\n    <tr>\n      <th>4</th>\n      <td>1135452-02-171</td>\n      <td>1065102</td>\n      <td>Tirta Llc</td>\n      <td>Tirta</td>\n      <td>105 Hudson St 6s</td>\n      <td>New York City</td>\n      <td>NY</td>\n      <td>10013.0</td>\n      <td>06/09/2016</td>\n      <td>12/23/2018</td>\n      <td>06/09/2016</td>\n      <td>12/23/2018</td>\n      <td>NaN</td>\n      <td>NaN</td>\n      <td>NaN</td>\n      <td>NaN</td>\n      <td>NaN</td>\n      <td>NaN</td>\n      <td>False</td>\n      <td>False</td>\n      <td>NaN</td>\n      <td>NaN</td>\n      <td>NaN</td>\n      <td>NaN</td>\n      <td>NaN</td>\n      <td>NaN</td>\n      <td>NaN</td>\n      <td>NaN</td>\n      <td>NaN</td>\n      <td>NaN</td>\n      <td>NaN</td>\n      <td>NaN</td>\n      <td>NaN</td>\n      <td>NaN</td>\n      <td>NaN</td>\n      <td>NaN</td>\n    </tr>\n  </tbody>\n</table>\n</div>",
                        "text/plain": "      Location Id  Business Account Number     Ownership Name  \\\n0  1103593-08-161                  1049564  Anjan Rajbhandari   \n1  1218784-04-191                  1100756      Luisa Alberto   \n2  1223199-05-191                  1102424       Sunrun, Inc.   \n3  1220748-05-191                  1101579    Felix Hernandez   \n4  1135452-02-171                  1065102          Tirta Llc   \n\n           DBA Name    Street Address           City State  Source Zipcode  \\\n0              Uber  28134 Harvey Ave        Hayward    CA         94544.0   \n1      High Five Sf       467 14th St  San Francisco    CA         94103.0   \n2       Sunrun, Inc     595 Market St  San Francisco    CA         94105.0   \n3  Tru-Tec Electric      44 Mcaker Ct      San Mateo    CA         94403.0   \n4             Tirta  105 Hudson St 6s  New York City    NY         10013.0   \n\n  Business Start Date Business End Date Location Start Date Location End Date  \\\n0          03/24/2014        12/31/2017          03/24/2014        12/31/2017   \n1          04/15/2019        04/15/2019          04/15/2019        04/15/2019   \n2          06/01/2008        06/01/2008          06/01/2008        06/01/2008   \n3          05/06/2019        06/18/2019          05/06/2019        06/18/2019   \n4          06/09/2016        12/23/2018          06/09/2016        12/23/2018   \n\n  Mail Address Mail City Mail Zipcode Mail State NAICS Code  \\\n0          NaN       NaN          NaN        NaN        NaN   \n1          NaN       NaN          NaN        NaN        NaN   \n2          NaN       NaN          NaN        NaN  2200-2299   \n3          NaN       NaN          NaN        NaN        NaN   \n4          NaN       NaN          NaN        NaN        NaN   \n\n  NAICS Code Description  Parking Tax  Transient Occupancy Tax LIC Code  \\\n0                    NaN        False                    False      NaN   \n1                    NaN        False                    False      NaN   \n2              Utilities        False                    False      NaN   \n3                    NaN        False                    False      NaN   \n4                    NaN        False                    False      NaN   \n\n  LIC Code Description  Supervisor District  \\\n0                  NaN                  NaN   \n1                  NaN                  8.0   \n2                  NaN                  NaN   \n3                  NaN                  NaN   \n4                  NaN                  NaN   \n\n  Neighborhoods - Analysis Boundaries Business Corridor Business Location  \\\n0                                 NaN               NaN               NaN   \n1                             Mission               NaN               NaN   \n2                                 NaN               NaN               NaN   \n3                                 NaN               NaN               NaN   \n4                                 NaN               NaN               NaN   \n\n   SF Find Neighborhoods  Current Police Districts  \\\n0                    NaN                       NaN   \n1                    NaN                       NaN   \n2                    NaN                       NaN   \n3                    NaN                       NaN   \n4                    NaN                       NaN   \n\n   Current Supervisor Districts  Analysis Neighborhoods  DELETE - Zip Codes  \\\n0                           NaN                     NaN                 NaN   \n1                           NaN                     NaN                 NaN   \n2                           NaN                     NaN                 NaN   \n3                           NaN                     NaN                 NaN   \n4                           NaN                     NaN                 NaN   \n\n   DELETE - Fire Prevention Districts  DELETE - Supervisor Districts  \\\n0                                 NaN                            NaN   \n1                                 NaN                            NaN   \n2                                 NaN                            NaN   \n3                                 NaN                            NaN   \n4                                 NaN                            NaN   \n\n   DELETE - Current Police Districts  DELETE - Neighborhoods  \\\n0                                NaN                     NaN   \n1                                NaN                     NaN   \n2                                NaN                     NaN   \n3                                NaN                     NaN   \n4                                NaN                     NaN   \n\n   DELETE - Police Districts  \n0                        NaN  \n1                        NaN  \n2                        NaN  \n3                        NaN  \n4                        NaN  "
                    },
                    "execution_count": 13,
                    "metadata": {},
                    "output_type": "execute_result"
                }
            ],
            "source": "print(\"Registered Business Data:\")\nbusiness = pd.read_csv('https://data.sfgov.org/api/views/g8m3-pdis/rows.csv?accessType=DOWNLOAD')\nprint(business.shape)\nbusiness.head()"
        },
        {
            "cell_type": "code",
            "execution_count": 14,
            "metadata": {},
            "outputs": [
                {
                    "name": "stderr",
                    "output_type": "stream",
                    "text": "/opt/conda/envs/Python36/lib/python3.6/site-packages/ipykernel/__main__.py:8: SettingWithCopyWarning: \nA value is trying to be set on a copy of a slice from a DataFrame.\nTry using .loc[row_indexer,col_indexer] = value instead\n\nSee the caveats in the documentation: http://pandas.pydata.org/pandas-docs/stable/indexing.html#indexing-view-versus-copy\n"
                },
                {
                    "data": {
                        "text/html": "<div>\n<style scoped>\n    .dataframe tbody tr th:only-of-type {\n        vertical-align: middle;\n    }\n\n    .dataframe tbody tr th {\n        vertical-align: top;\n    }\n\n    .dataframe thead th {\n        text-align: right;\n    }\n</style>\n<table border=\"1\" class=\"dataframe\">\n  <thead>\n    <tr style=\"text-align: right;\">\n      <th></th>\n      <th>Business Start Date</th>\n      <th>Business Name</th>\n      <th>Neighborhood</th>\n    </tr>\n  </thead>\n  <tbody>\n    <tr>\n      <th>1</th>\n      <td>2019-04-15</td>\n      <td>High Five Sf</td>\n      <td>Mission</td>\n    </tr>\n    <tr>\n      <th>210</th>\n      <td>2015-01-01</td>\n      <td>Erhan Ersin</td>\n      <td>Tenderloin</td>\n    </tr>\n    <tr>\n      <th>233</th>\n      <td>2017-05-08</td>\n      <td>2100 Rivera</td>\n      <td>Sunset/Parkside</td>\n    </tr>\n    <tr>\n      <th>235</th>\n      <td>2017-06-07</td>\n      <td>Kannon Goods</td>\n      <td>Nob Hill</td>\n    </tr>\n    <tr>\n      <th>246</th>\n      <td>2012-03-27</td>\n      <td>Robert P Moseley</td>\n      <td>Outer Richmond</td>\n    </tr>\n  </tbody>\n</table>\n</div>",
                        "text/plain": "    Business Start Date     Business Name     Neighborhood\n1            2019-04-15      High Five Sf          Mission\n210          2015-01-01       Erhan Ersin       Tenderloin\n233          2017-05-08       2100 Rivera  Sunset/Parkside\n235          2017-06-07      Kannon Goods         Nob Hill\n246          2012-03-27  Robert P Moseley   Outer Richmond"
                    },
                    "execution_count": 14,
                    "metadata": {},
                    "output_type": "execute_result"
                }
            ],
            "source": "#just pull the columns we need\nbusiness2 = business[['Business Start Date','DBA Name', 'Neighborhoods - Analysis Boundaries']].copy()\n\n#drop null values\nbusiness3 = business2.dropna()\n\n#convert business start date to datetime\nbusiness3['Business Start Date'] = business3['Business Start Date'].astype('datetime64[ns]') \n\n#let's just look at areas that have seen the most businesses start in the last decade.\nbusiness4 = business3.loc[business3['Business Start Date'] > '2010-01-01']\n\n#let's also rename 'Neighborhoods - Analysis Boundaries' to just be 'Neighborhoods'\nbusiness4.rename(columns={'Neighborhoods - Analysis Boundaries': 'Neighborhood'}, inplace = True)\n\n#let's do the same thing for the business name\nbusiness4.rename(columns={'DBA Name': 'Business Name'}, inplace = True)\n\nbusiness4.head()"
        },
        {
            "cell_type": "code",
            "execution_count": 23,
            "metadata": {
                "scrolled": true
            },
            "outputs": [
                {
                    "data": {
                        "text/html": "<div>\n<style scoped>\n    .dataframe tbody tr th:only-of-type {\n        vertical-align: middle;\n    }\n\n    .dataframe tbody tr th {\n        vertical-align: top;\n    }\n\n    .dataframe thead th {\n        text-align: right;\n    }\n</style>\n<table border=\"1\" class=\"dataframe\">\n  <thead>\n    <tr style=\"text-align: right;\">\n      <th></th>\n      <th>Neighborhood</th>\n      <th>Businesses</th>\n    </tr>\n  </thead>\n  <tbody>\n    <tr>\n      <th>5</th>\n      <td>Financial District/South Beach</td>\n      <td>12196</td>\n    </tr>\n    <tr>\n      <th>18</th>\n      <td>Mission</td>\n      <td>6654</td>\n    </tr>\n    <tr>\n      <th>33</th>\n      <td>South of Market</td>\n      <td>5759</td>\n    </tr>\n    <tr>\n      <th>34</th>\n      <td>Sunset/Parkside</td>\n      <td>4396</td>\n    </tr>\n    <tr>\n      <th>0</th>\n      <td>Bayview Hunters Point</td>\n      <td>3680</td>\n    </tr>\n    <tr>\n      <th>25</th>\n      <td>Outer Richmond</td>\n      <td>2909</td>\n    </tr>\n    <tr>\n      <th>16</th>\n      <td>Marina</td>\n      <td>2750</td>\n    </tr>\n    <tr>\n      <th>2</th>\n      <td>Castro/Upper Market</td>\n      <td>2690</td>\n    </tr>\n    <tr>\n      <th>39</th>\n      <td>West of Twin Peaks</td>\n      <td>2520</td>\n    </tr>\n    <tr>\n      <th>9</th>\n      <td>Hayes Valley</td>\n      <td>2520</td>\n    </tr>\n  </tbody>\n</table>\n</div>",
                        "text/plain": "                      Neighborhood  Businesses\n5   Financial District/South Beach       12196\n18                         Mission        6654\n33                 South of Market        5759\n34                 Sunset/Parkside        4396\n0            Bayview Hunters Point        3680\n25                  Outer Richmond        2909\n16                          Marina        2750\n2              Castro/Upper Market        2690\n39              West of Twin Peaks        2520\n9                     Hayes Valley        2520"
                    },
                    "execution_count": 23,
                    "metadata": {},
                    "output_type": "execute_result"
                }
            ],
            "source": "#Count the number of businesses in each neighborhood by grouping the data\nbusiness5 = business4.groupby('Neighborhood', as_index=False).count()\nbusiness5.reset_index()\n#let's get rid of the business start date, we won't be needing it anymore\nbusiness5.drop(columns = 'Business Start Date',inplace = True)\n#rename our \"business name\" column to \"Businesses\" to reflect the count per neighborhood\nbusiness5.rename(columns={'Business Name': 'Businesses'}, inplace = True)\n#and sort the data\nbusiness6 = business5.sort_values(by= ['Businesses'], ascending = False).head(10)\nbusiness6.reset_index(drop=True)\nbusiness6"
        },
        {
            "cell_type": "markdown",
            "metadata": {},
            "source": "Now we can get a good idea of which areas are most populated with businesses and foot traffic"
        },
        {
            "cell_type": "code",
            "execution_count": 16,
            "metadata": {},
            "outputs": [
                {
                    "name": "stdout",
                    "output_type": "stream",
                    "text": "Crime Data:\n(371095, 36)\n"
                },
                {
                    "data": {
                        "text/html": "<div>\n<style scoped>\n    .dataframe tbody tr th:only-of-type {\n        vertical-align: middle;\n    }\n\n    .dataframe tbody tr th {\n        vertical-align: top;\n    }\n\n    .dataframe thead th {\n        text-align: right;\n    }\n</style>\n<table border=\"1\" class=\"dataframe\">\n  <thead>\n    <tr style=\"text-align: right;\">\n      <th></th>\n      <th>Incident Datetime</th>\n      <th>Incident Date</th>\n      <th>Incident Time</th>\n      <th>Incident Year</th>\n      <th>Incident Day of Week</th>\n      <th>Report Datetime</th>\n      <th>Row ID</th>\n      <th>Incident ID</th>\n      <th>Incident Number</th>\n      <th>CAD Number</th>\n      <th>Report Type Code</th>\n      <th>Report Type Description</th>\n      <th>Filed Online</th>\n      <th>Incident Code</th>\n      <th>Incident Category</th>\n      <th>Incident Subcategory</th>\n      <th>Incident Description</th>\n      <th>Resolution</th>\n      <th>Intersection</th>\n      <th>CNN</th>\n      <th>Police District</th>\n      <th>Analysis Neighborhood</th>\n      <th>Supervisor District</th>\n      <th>Latitude</th>\n      <th>Longitude</th>\n      <th>point</th>\n      <th>SF Find Neighborhoods</th>\n      <th>Current Police Districts</th>\n      <th>Current Supervisor Districts</th>\n      <th>Analysis Neighborhoods</th>\n      <th>HSOC Zones as of 2018-06-05</th>\n      <th>OWED Public Spaces</th>\n      <th>Central Market/Tenderloin Boundary Polygon - Updated</th>\n      <th>Parks Alliance CPSI (27+TL sites)</th>\n      <th>ESNCAG - Boundary File</th>\n      <th>Areas of Vulnerability, 2016</th>\n    </tr>\n  </thead>\n  <tbody>\n    <tr>\n      <th>0</th>\n      <td>2020/05/12 05:45:00 PM</td>\n      <td>2020/05/12</td>\n      <td>17:45</td>\n      <td>2020</td>\n      <td>Tuesday</td>\n      <td>2020/05/13 09:46:00 AM</td>\n      <td>92897328150</td>\n      <td>928973</td>\n      <td>206082743</td>\n      <td>NaN</td>\n      <td>II</td>\n      <td>Coplogic Initial</td>\n      <td>True</td>\n      <td>28150</td>\n      <td>Malicious Mischief</td>\n      <td>Vandalism</td>\n      <td>Malicious Mischief, Vandalism to Property</td>\n      <td>Open or Active</td>\n      <td>NaN</td>\n      <td>NaN</td>\n      <td>Bayview</td>\n      <td>NaN</td>\n      <td>NaN</td>\n      <td>NaN</td>\n      <td>NaN</td>\n      <td>NaN</td>\n      <td>NaN</td>\n      <td>NaN</td>\n      <td>NaN</td>\n      <td>NaN</td>\n      <td>NaN</td>\n      <td>NaN</td>\n      <td>NaN</td>\n      <td>NaN</td>\n      <td>NaN</td>\n      <td>NaN</td>\n    </tr>\n    <tr>\n      <th>1</th>\n      <td>2020/05/19 09:00:00 PM</td>\n      <td>2020/05/19</td>\n      <td>21:00</td>\n      <td>2020</td>\n      <td>Tuesday</td>\n      <td>2020/05/20 05:43:00 PM</td>\n      <td>92899306244</td>\n      <td>928993</td>\n      <td>206082709</td>\n      <td>NaN</td>\n      <td>II</td>\n      <td>Coplogic Initial</td>\n      <td>True</td>\n      <td>6244</td>\n      <td>Larceny Theft</td>\n      <td>Larceny - From Vehicle</td>\n      <td>Theft, From Locked Vehicle, &gt;$950</td>\n      <td>Open or Active</td>\n      <td>NaN</td>\n      <td>NaN</td>\n      <td>Southern</td>\n      <td>NaN</td>\n      <td>NaN</td>\n      <td>NaN</td>\n      <td>NaN</td>\n      <td>NaN</td>\n      <td>NaN</td>\n      <td>NaN</td>\n      <td>NaN</td>\n      <td>NaN</td>\n      <td>NaN</td>\n      <td>NaN</td>\n      <td>NaN</td>\n      <td>NaN</td>\n      <td>NaN</td>\n      <td>NaN</td>\n    </tr>\n    <tr>\n      <th>2</th>\n      <td>2020/05/16 06:00:00 PM</td>\n      <td>2020/05/16</td>\n      <td>18:00</td>\n      <td>2020</td>\n      <td>Saturday</td>\n      <td>2020/05/16 10:26:00 PM</td>\n      <td>92902428150</td>\n      <td>929024</td>\n      <td>206083296</td>\n      <td>NaN</td>\n      <td>II</td>\n      <td>Coplogic Initial</td>\n      <td>True</td>\n      <td>28150</td>\n      <td>Malicious Mischief</td>\n      <td>Vandalism</td>\n      <td>Malicious Mischief, Vandalism to Property</td>\n      <td>Open or Active</td>\n      <td>NaN</td>\n      <td>NaN</td>\n      <td>Mission</td>\n      <td>NaN</td>\n      <td>NaN</td>\n      <td>NaN</td>\n      <td>NaN</td>\n      <td>NaN</td>\n      <td>NaN</td>\n      <td>NaN</td>\n      <td>NaN</td>\n      <td>NaN</td>\n      <td>NaN</td>\n      <td>NaN</td>\n      <td>NaN</td>\n      <td>NaN</td>\n      <td>NaN</td>\n      <td>NaN</td>\n    </tr>\n    <tr>\n      <th>3</th>\n      <td>2020/03/30 12:00:00 AM</td>\n      <td>2020/03/30</td>\n      <td>00:00</td>\n      <td>2020</td>\n      <td>Monday</td>\n      <td>2020/05/04 11:47:00 AM</td>\n      <td>92905305073</td>\n      <td>929053</td>\n      <td>206062193</td>\n      <td>NaN</td>\n      <td>IS</td>\n      <td>Coplogic Supplement</td>\n      <td>True</td>\n      <td>5073</td>\n      <td>Burglary</td>\n      <td>Burglary - Other</td>\n      <td>Burglary, Other Bldg., Unlawful Entry</td>\n      <td>Open or Active</td>\n      <td>NaN</td>\n      <td>NaN</td>\n      <td>Mission</td>\n      <td>NaN</td>\n      <td>NaN</td>\n      <td>NaN</td>\n      <td>NaN</td>\n      <td>NaN</td>\n      <td>NaN</td>\n      <td>NaN</td>\n      <td>NaN</td>\n      <td>NaN</td>\n      <td>NaN</td>\n      <td>NaN</td>\n      <td>NaN</td>\n      <td>NaN</td>\n      <td>NaN</td>\n      <td>NaN</td>\n    </tr>\n    <tr>\n      <th>4</th>\n      <td>2020/02/03 02:45:00 PM</td>\n      <td>2020/02/03</td>\n      <td>14:45</td>\n      <td>2020</td>\n      <td>Monday</td>\n      <td>2020/02/03 05:50:00 PM</td>\n      <td>89881675000</td>\n      <td>898816</td>\n      <td>200085557</td>\n      <td>200342870.0</td>\n      <td>II</td>\n      <td>Initial</td>\n      <td>NaN</td>\n      <td>75000</td>\n      <td>Missing Person</td>\n      <td>Missing Person</td>\n      <td>Found Person</td>\n      <td>Open or Active</td>\n      <td>20TH AVE \\ WINSTON DR</td>\n      <td>33719000.0</td>\n      <td>Taraval</td>\n      <td>Lakeshore</td>\n      <td>7.0</td>\n      <td>37.72695</td>\n      <td>-122.476039</td>\n      <td>(37.72694991292525, -122.47603947349434)</td>\n      <td>41.0</td>\n      <td>10.0</td>\n      <td>8.0</td>\n      <td>16.0</td>\n      <td>NaN</td>\n      <td>NaN</td>\n      <td>NaN</td>\n      <td>NaN</td>\n      <td>NaN</td>\n      <td>2.0</td>\n    </tr>\n  </tbody>\n</table>\n</div>",
                        "text/plain": "        Incident Datetime Incident Date Incident Time  Incident Year  \\\n0  2020/05/12 05:45:00 PM    2020/05/12         17:45           2020   \n1  2020/05/19 09:00:00 PM    2020/05/19         21:00           2020   \n2  2020/05/16 06:00:00 PM    2020/05/16         18:00           2020   \n3  2020/03/30 12:00:00 AM    2020/03/30         00:00           2020   \n4  2020/02/03 02:45:00 PM    2020/02/03         14:45           2020   \n\n  Incident Day of Week         Report Datetime       Row ID  Incident ID  \\\n0              Tuesday  2020/05/13 09:46:00 AM  92897328150       928973   \n1              Tuesday  2020/05/20 05:43:00 PM  92899306244       928993   \n2             Saturday  2020/05/16 10:26:00 PM  92902428150       929024   \n3               Monday  2020/05/04 11:47:00 AM  92905305073       929053   \n4               Monday  2020/02/03 05:50:00 PM  89881675000       898816   \n\n   Incident Number   CAD Number Report Type Code Report Type Description  \\\n0        206082743          NaN               II        Coplogic Initial   \n1        206082709          NaN               II        Coplogic Initial   \n2        206083296          NaN               II        Coplogic Initial   \n3        206062193          NaN               IS     Coplogic Supplement   \n4        200085557  200342870.0               II                 Initial   \n\n  Filed Online  Incident Code   Incident Category    Incident Subcategory  \\\n0         True          28150  Malicious Mischief               Vandalism   \n1         True           6244       Larceny Theft  Larceny - From Vehicle   \n2         True          28150  Malicious Mischief               Vandalism   \n3         True           5073            Burglary        Burglary - Other   \n4          NaN          75000      Missing Person          Missing Person   \n\n                        Incident Description      Resolution  \\\n0  Malicious Mischief, Vandalism to Property  Open or Active   \n1          Theft, From Locked Vehicle, >$950  Open or Active   \n2  Malicious Mischief, Vandalism to Property  Open or Active   \n3      Burglary, Other Bldg., Unlawful Entry  Open or Active   \n4                               Found Person  Open or Active   \n\n            Intersection         CNN Police District Analysis Neighborhood  \\\n0                    NaN         NaN         Bayview                   NaN   \n1                    NaN         NaN        Southern                   NaN   \n2                    NaN         NaN         Mission                   NaN   \n3                    NaN         NaN         Mission                   NaN   \n4  20TH AVE \\ WINSTON DR  33719000.0         Taraval             Lakeshore   \n\n   Supervisor District  Latitude   Longitude  \\\n0                  NaN       NaN         NaN   \n1                  NaN       NaN         NaN   \n2                  NaN       NaN         NaN   \n3                  NaN       NaN         NaN   \n4                  7.0  37.72695 -122.476039   \n\n                                      point  SF Find Neighborhoods  \\\n0                                       NaN                    NaN   \n1                                       NaN                    NaN   \n2                                       NaN                    NaN   \n3                                       NaN                    NaN   \n4  (37.72694991292525, -122.47603947349434)                   41.0   \n\n   Current Police Districts  Current Supervisor Districts  \\\n0                       NaN                           NaN   \n1                       NaN                           NaN   \n2                       NaN                           NaN   \n3                       NaN                           NaN   \n4                      10.0                           8.0   \n\n   Analysis Neighborhoods  HSOC Zones as of 2018-06-05  OWED Public Spaces  \\\n0                     NaN                          NaN                 NaN   \n1                     NaN                          NaN                 NaN   \n2                     NaN                          NaN                 NaN   \n3                     NaN                          NaN                 NaN   \n4                    16.0                          NaN                 NaN   \n\n   Central Market/Tenderloin Boundary Polygon - Updated  \\\n0                                                NaN      \n1                                                NaN      \n2                                                NaN      \n3                                                NaN      \n4                                                NaN      \n\n   Parks Alliance CPSI (27+TL sites)  ESNCAG - Boundary File  \\\n0                                NaN                     NaN   \n1                                NaN                     NaN   \n2                                NaN                     NaN   \n3                                NaN                     NaN   \n4                                NaN                     NaN   \n\n   Areas of Vulnerability, 2016  \n0                           NaN  \n1                           NaN  \n2                           NaN  \n3                           NaN  \n4                           2.0  "
                    },
                    "execution_count": 16,
                    "metadata": {},
                    "output_type": "execute_result"
                }
            ],
            "source": "print(\"Crime Data:\")\ncrime = pd.read_csv('https://data.sfgov.org/api/views/wg3w-h783/rows.csv?accessType=DOWNLOAD')\nprint(crime.shape)\ncrime.head()"
        },
        {
            "cell_type": "code",
            "execution_count": 21,
            "metadata": {},
            "outputs": [
                {
                    "name": "stdout",
                    "output_type": "stream",
                    "text": "Let's clean this up a bit for our purposes\n"
                },
                {
                    "name": "stderr",
                    "output_type": "stream",
                    "text": "/opt/conda/envs/Python36/lib/python3.6/site-packages/ipykernel/__main__.py:9: SettingWithCopyWarning: \nA value is trying to be set on a copy of a slice from a DataFrame.\nTry using .loc[row_indexer,col_indexer] = value instead\n\nSee the caveats in the documentation: http://pandas.pydata.org/pandas-docs/stable/indexing.html#indexing-view-versus-copy\n"
                },
                {
                    "data": {
                        "text/html": "<div>\n<style scoped>\n    .dataframe tbody tr th:only-of-type {\n        vertical-align: middle;\n    }\n\n    .dataframe tbody tr th {\n        vertical-align: top;\n    }\n\n    .dataframe thead th {\n        text-align: right;\n    }\n</style>\n<table border=\"1\" class=\"dataframe\">\n  <thead>\n    <tr style=\"text-align: right;\">\n      <th></th>\n      <th>Neighborhood</th>\n      <th>Incidents</th>\n    </tr>\n  </thead>\n  <tbody>\n    <tr>\n      <th>18</th>\n      <td>Mission</td>\n      <td>37755</td>\n    </tr>\n    <tr>\n      <th>35</th>\n      <td>Tenderloin</td>\n      <td>33523</td>\n    </tr>\n    <tr>\n      <th>5</th>\n      <td>Financial District/South Beach</td>\n      <td>30318</td>\n    </tr>\n    <tr>\n      <th>33</th>\n      <td>South of Market</td>\n      <td>28171</td>\n    </tr>\n    <tr>\n      <th>0</th>\n      <td>Bayview Hunters Point</td>\n      <td>19822</td>\n    </tr>\n    <tr>\n      <th>40</th>\n      <td>Western Addition</td>\n      <td>11003</td>\n    </tr>\n    <tr>\n      <th>22</th>\n      <td>North Beach</td>\n      <td>10119</td>\n    </tr>\n    <tr>\n      <th>2</th>\n      <td>Castro/Upper Market</td>\n      <td>10100</td>\n    </tr>\n    <tr>\n      <th>20</th>\n      <td>Nob Hill</td>\n      <td>9694</td>\n    </tr>\n    <tr>\n      <th>34</th>\n      <td>Sunset/Parkside</td>\n      <td>9398</td>\n    </tr>\n  </tbody>\n</table>\n</div>",
                        "text/plain": "                      Neighborhood  Incidents\n18                         Mission      37755\n35                      Tenderloin      33523\n5   Financial District/South Beach      30318\n33                 South of Market      28171\n0            Bayview Hunters Point      19822\n40                Western Addition      11003\n22                     North Beach      10119\n2              Castro/Upper Market      10100\n20                        Nob Hill       9694\n34                 Sunset/Parkside       9398"
                    },
                    "execution_count": 21,
                    "metadata": {},
                    "output_type": "execute_result"
                }
            ],
            "source": "print(\"Let's clean this up a bit for our purposes\")\n#take just the columns we need\ncrime1 = crime[['Analysis Neighborhood','Incident Category', 'Incident Date']]\n\n#drop all null values\ncrime2 = crime1.dropna()\n\n#convert incident date to datetime\ncrime2['Incident Date'] = crime2['Incident Date'].astype('datetime64[ns]') \n\n#filter to just crimes in the last 5 years, as the neighborhoods in san francisco are rapidly changing and being gentrified, we want data that is relevant to today's crime.\ncrime3 = crime2.loc[crime2['Incident Date'] > '2015-01-01']\n\n#There's lots of scary crimes out there, but let's make sure we aren't factoring in non-criminal police reports, because that data will pollute our insights.\ncrime4 = crime3.loc[crime3['Incident Category'] != 'Non-Criminal']\n\n#change the name of 'Analysis Neighborhood' to 'Neighborhood'\ncrime4.rename(columns={'Analysis Neighborhood': 'Neighborhood'}, inplace = True)\n\n#count the number of crimes in each neighborhood\ncrime5 = crime4.groupby('Neighborhood', as_index=False).count()\n\n#get rid of Incident Date\ncrime5.drop(columns = 'Incident Date',inplace = True)\n\n#rename our column to reflect the counts of incidents\ncrime5.rename(columns={'Incident Category': 'Incidents'}, inplace = True)\n\n#and sort our values\n\ncrime6 = crime5.sort_values(by= ['Incidents'], ascending = False)\ncrime7 = crime6.head(10)\n\ncrime7"
        },
        {
            "cell_type": "markdown",
            "metadata": {},
            "source": "Now we can clearly see the number of criminal incidents per neighborhood to get an idea of the safe and less safe areas"
        },
        {
            "cell_type": "code",
            "execution_count": null,
            "metadata": {},
            "outputs": [],
            "source": ""
        }
    ],
    "metadata": {
        "kernelspec": {
            "display_name": "Python 3.6",
            "language": "python",
            "name": "python3"
        },
        "language_info": {
            "codemirror_mode": {
                "name": "ipython",
                "version": 3
            },
            "file_extension": ".py",
            "mimetype": "text/x-python",
            "name": "python",
            "nbconvert_exporter": "python",
            "pygments_lexer": "ipython3",
            "version": "3.6.9"
        }
    },
    "nbformat": 4,
    "nbformat_minor": 1
}